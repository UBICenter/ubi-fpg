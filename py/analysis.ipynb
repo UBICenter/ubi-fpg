{
 "metadata": {
  "language_info": {
   "codemirror_mode": {
    "name": "ipython",
    "version": 3
   },
   "file_extension": ".py",
   "mimetype": "text/x-python",
   "name": "python",
   "nbconvert_exporter": "python",
   "pygments_lexer": "ipython3",
   "version": "3.7.7"
  },
  "orig_nbformat": 2,
  "kernelspec": {
   "name": "python377jvsc74a57bd04a68920d8e8856d089b03c157a7384bba62e0986489c1fa381bbe538cda0922c",
   "display_name": "Python 3.7.7 64-bit ('base': conda)"
  }
 },
 "nbformat": 4,
 "nbformat_minor": 2,
 "cells": [
  {
   "cell_type": "code",
   "execution_count": 1,
   "metadata": {},
   "outputs": [],
   "source": [
    "import pandas as pd\n",
    "import numpy as np\n",
    "import microdf as mdf\n",
    "\n",
    "p = pd.read_csv(\"../data/asec_2019_ipums.csv.gz\")\n",
    "\n",
    "# Preprocess\n",
    "p.columns = p.columns.str.lower()\n",
    "\n",
    "# Replace NIU codes.\n",
    "NIU_CODES = {\n",
    "    \"adjginc\": 99999999,\n",
    "    \"offtotval\": 9999999999,\n",
    "    # Secondary individuals under 15 have NIU for cutoff.\n",
    "    # We set them to zero as to give them no UBI\n",
    "    # (they're still part of SPM units with others who get UBI).\n",
    "    \"cutoff\": 999999,\n",
    "    \"incwelfr\": 999999,\n",
    "}\n",
    "for column, niu in NIU_CODES.items():\n",
    "    p[column].replace({niu: 0}, inplace=True)\n",
    "\n",
    "p[\"fam\"] = p.marbasecidh.astype(str) + \"-\" + p.famid.astype(str)\n",
    "\n",
    "# Create aggregates.\n",
    "\n",
    "# Family: note families are assigned only to one SPM unit.\n",
    "f = p.groupby([\"fam\", \"cutoff\", \"offtotval\", \"spmfamunit\"]).adjginc.sum().reset_index().rename(columns={\"adjginc\": \"fam_adjginc\"})\n",
    "\n",
    "# SPM unit, with all SPM characteristics.\n",
    "s = p.groupby(['spmlunch', 'spmcaphous', 'spmwt', 'spmeitc',\n",
    "       'spmwic', 'spmheat', 'spmsnap', 'spmtotres', 'spmthresh', 'spmfamunit']).incwelfr.sum().reset_index().rename(columns={\"incwelfr\": \"spmincwelfr\"})"
   ]
  },
  {
   "cell_type": "code",
   "execution_count": 2,
   "metadata": {},
   "outputs": [],
   "source": [
    "def phase_out(amount, rate, respect_to):\n",
    "    return np.maximum(0, amount - respect_to * rate)\n",
    "\n",
    "\n",
    "def ubi_fpg(phase_out_rate=0, respect_to=\"offtotval\", repeal_bens=None):\n",
    "    f[\"chg\"] = phase_out(f.cutoff, phase_out_rate, np.maximum(0, f[respect_to]))\n",
    "    s2 = s.merge(f.groupby(\"spmfamunit\").chg.sum().reset_index(), on=\"spmfamunit\")\n",
    "    if repeal_bens is not None and repeal_bens != [\"\"]:\n",
    "        s2.chg -= s2[repeal_bens].sum(axis=1)\n",
    "    p2 = p.merge(s2[[\"chg\", \"spmfamunit\"]], on=\"spmfamunit\")\n",
    "    p2.spmtotres += p2.chg\n",
    "    p2[\"loser\"] = p2.chg < -1\n",
    "    pov = mdf.poverty_rate(p2, \"spmtotres\", \"spmthresh\", \"asecwt\")\n",
    "    cost = mdf.weighted_sum(s2, \"chg\", \"spmwt\")\n",
    "    pct_loser = mdf.weighted_mean(p2, \"loser\", \"asecwt\")\n",
    "    return pd.Series({\"poverty\": pov, \"cost\": cost, \"pct_loser\": pct_loser})"
   ]
  },
  {
   "cell_type": "code",
   "execution_count": 3,
   "metadata": {},
   "outputs": [
    {
     "output_type": "execute_result",
     "data": {
      "text/plain": [
       "   phase_out                                      repeal_bens   poverty  \\\n",
       "0        inf                                                   0.117132   \n",
       "1        inf  spmeitc,spmcaphous,spmsnap,spmincwelfr,spmlunch  0.150437   \n",
       "2       0.50                                                   0.031919   \n",
       "3       0.50  spmeitc,spmcaphous,spmsnap,spmincwelfr,spmlunch  0.047664   \n",
       "4       0.25                                                   0.018187   \n",
       "5       0.25  spmeitc,spmcaphous,spmsnap,spmincwelfr,spmlunch  0.026311   \n",
       "6       0.00                                                   0.013046   \n",
       "7       0.00  spmeitc,spmcaphous,spmsnap,spmincwelfr,spmlunch  0.018742   \n",
       "\n",
       "           cost  pct_loser  pov_pov_chg  \n",
       "0  0.000000e+00   0.000000     0.000000  \n",
       "1 -1.075703e+11   0.399615     0.284336  \n",
       "2  3.442652e+11   0.000000    -0.727499  \n",
       "3  2.366949e+11   0.235764    -0.593073  \n",
       "4  7.552311e+11   0.000000    -0.844727  \n",
       "5  6.476608e+11   0.105374    -0.775373  \n",
       "6  2.708504e+12   0.000000    -0.888620  \n",
       "7  2.600934e+12   0.001154    -0.839995  "
      ],
      "text/html": "<div>\n<style scoped>\n    .dataframe tbody tr th:only-of-type {\n        vertical-align: middle;\n    }\n\n    .dataframe tbody tr th {\n        vertical-align: top;\n    }\n\n    .dataframe thead th {\n        text-align: right;\n    }\n</style>\n<table border=\"1\" class=\"dataframe\">\n  <thead>\n    <tr style=\"text-align: right;\">\n      <th></th>\n      <th>phase_out</th>\n      <th>repeal_bens</th>\n      <th>poverty</th>\n      <th>cost</th>\n      <th>pct_loser</th>\n      <th>pov_pov_chg</th>\n    </tr>\n  </thead>\n  <tbody>\n    <tr>\n      <th>0</th>\n      <td>inf</td>\n      <td></td>\n      <td>0.117132</td>\n      <td>0.000000e+00</td>\n      <td>0.000000</td>\n      <td>0.000000</td>\n    </tr>\n    <tr>\n      <th>1</th>\n      <td>inf</td>\n      <td>spmeitc,spmcaphous,spmsnap,spmincwelfr,spmlunch</td>\n      <td>0.150437</td>\n      <td>-1.075703e+11</td>\n      <td>0.399615</td>\n      <td>0.284336</td>\n    </tr>\n    <tr>\n      <th>2</th>\n      <td>0.50</td>\n      <td></td>\n      <td>0.031919</td>\n      <td>3.442652e+11</td>\n      <td>0.000000</td>\n      <td>-0.727499</td>\n    </tr>\n    <tr>\n      <th>3</th>\n      <td>0.50</td>\n      <td>spmeitc,spmcaphous,spmsnap,spmincwelfr,spmlunch</td>\n      <td>0.047664</td>\n      <td>2.366949e+11</td>\n      <td>0.235764</td>\n      <td>-0.593073</td>\n    </tr>\n    <tr>\n      <th>4</th>\n      <td>0.25</td>\n      <td></td>\n      <td>0.018187</td>\n      <td>7.552311e+11</td>\n      <td>0.000000</td>\n      <td>-0.844727</td>\n    </tr>\n    <tr>\n      <th>5</th>\n      <td>0.25</td>\n      <td>spmeitc,spmcaphous,spmsnap,spmincwelfr,spmlunch</td>\n      <td>0.026311</td>\n      <td>6.476608e+11</td>\n      <td>0.105374</td>\n      <td>-0.775373</td>\n    </tr>\n    <tr>\n      <th>6</th>\n      <td>0.00</td>\n      <td></td>\n      <td>0.013046</td>\n      <td>2.708504e+12</td>\n      <td>0.000000</td>\n      <td>-0.888620</td>\n    </tr>\n    <tr>\n      <th>7</th>\n      <td>0.00</td>\n      <td>spmeitc,spmcaphous,spmsnap,spmincwelfr,spmlunch</td>\n      <td>0.018742</td>\n      <td>2.600934e+12</td>\n      <td>0.001154</td>\n      <td>-0.839995</td>\n    </tr>\n  </tbody>\n</table>\n</div>"
     },
     "metadata": {},
     "execution_count": 3
    }
   ],
   "source": [
    "sim = mdf.cartesian_product({\n",
    "    \"phase_out\": [np.inf, 0.5, 0.25, 0],\n",
    "    \"repeal_bens\": [\"\", \"spmeitc,spmcaphous,spmsnap,spmincwelfr,spmlunch\"]\n",
    "    })\n",
    "sim = pd.concat([\n",
    "    sim,\n",
    "    sim.apply(lambda x: ubi_fpg(x.phase_out, repeal_bens=x.repeal_bens.split(\",\")), axis=1)\n",
    "    ], axis=1)\n",
    "cur_pov = sim[(sim.phase_out == np.inf) & (sim.repeal_bens == \"\")].poverty.values[0]\n",
    "\n",
    "def pct_chg(base, new):\n",
    "    return (new - base) / base\n",
    "\n",
    "sim[\"pov_pov_chg\"] = pct_chg(cur_pov, sim.poverty)\n",
    "sim"
   ]
  }
 ]
}